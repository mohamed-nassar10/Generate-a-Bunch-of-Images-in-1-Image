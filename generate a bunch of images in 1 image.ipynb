{
 "cells": [
  {
   "cell_type": "code",
   "execution_count": null,
   "metadata": {
    "colab": {},
    "colab_type": "code",
    "id": "2eRIX-4pViRC"
   },
   "outputs": [],
   "source": [
    "# inspired by lazyprogrammer\n",
    "\n",
    "\n",
    "import numpy as np\n",
    "import matplotlib.pyplot as plt\n",
    "\n",
    "from datetime import datetime\n",
    "import os\n",
    "\n",
    "from skimage.io import imread\n",
    "\n",
    "\n",
    "import torch\n",
    "import torch.nn as nn\n",
    "import torchvision\n",
    "import torchvision.transforms as transforms\n",
    "from torchvision.utils import save_image\n",
    "\n"
   ]
  },
  {
   "cell_type": "code",
   "execution_count": null,
   "metadata": {
    "colab": {},
    "colab_type": "code",
    "id": "Ex9Hx--rlGNx"
   },
   "outputs": [],
   "source": [
    "# makes pixel values between -1 and +1\n",
    "# assume they are transformed from (0, 1)\n",
    "\n",
    "# min value = (0 - 0.5) / 0.5 = -1\n",
    "# max value = (1 - 0.5) / 0.5 = +1\n",
    "\n",
    "\n",
    "transform = transforms.Compose([\n",
    "    transforms.ToTensor(),\n",
    "    transforms.Normalize(mean=(0.5,),\n",
    "                         std=(0.5,))])\n",
    "                         "
   ]
  },
  {
   "cell_type": "code",
   "execution_count": null,
   "metadata": {
    "colab": {
     "base_uri": "https://localhost:8080/",
     "height": 335,
     "referenced_widgets": [
      "73c41ea24c4f46739f61312ae5981cd7",
      "9101ffc8ea124f99b7829fc490874e02",
      "cf73e3d5ead7422d86eed3ad82ebf5be",
      "37053cffd5bb4c2b94c8cd72ab4b4b84",
      "b3c0627c1de049c5b4930a2264756ec3",
      "bf0c385c22c14ae8927c32c80d15e9a9",
      "4cafe15551a148f89d996247226bed2d",
      "3f8a4f33ff924393820704deacf7689f",
      "39093a5e767c499a9a99409be5e36734",
      "8607f802a6d246e48158dedc3d0c3d08",
      "5103c3b8b02246e09d359ee3120e4d20",
      "3dd0ff06245e4e11bef532e53b98f8cc",
      "00c57892564e49ca824aa0bced5e4378",
      "652e1fbaa82c471c9134521ba31a1b30",
      "09a38233082248e297a9fefef4d953f8",
      "7fbab5a5079d438e92e5dbe748fe822d",
      "017532dbb80a4d33b4b996de6e15c433",
      "cb5f37b0dcfb4248b03e7864a10d1d9f",
      "d5252c71f8d348cfa31a47fb3e318309",
      "2609217707b347e4b46d273441c49953",
      "bf6b5ce84ee447b1ad70c6f908cc13ec",
      "045e4e384fba49ce8bc5797d9b7c621a",
      "1eaae3af70134129aa1be142d29467dc",
      "4c647347006c4813b1eb0dffa208c7e4",
      "0a62830610da4f8bbbe2977729851f0c",
      "c960b2a3e09146bd89489dfc3929e0fb",
      "3b0664c477344b5bb101d6c94d39cf66",
      "ff9bb5ed732a46e2a15034599555959d",
      "22e7cdd81fcb45d7a1d3522efbb64cdc",
      "f8483df122024272bc6cd3a8bbd5838e",
      "56736779c63f42969accc03e27af3ded",
      "842e0b7300e14943bd3099d6e9962452"
     ]
    },
    "colab_type": "code",
    "id": "TAoVahDGkA78",
    "outputId": "0fefbaec-c31e-48b8-deec-45cfe9d9138e"
   },
   "outputs": [
    {
     "name": "stdout",
     "output_type": "stream",
     "text": [
      "Downloading http://yann.lecun.com/exdb/mnist/train-images-idx3-ubyte.gz to ./MNIST/raw/train-images-idx3-ubyte.gz\n"
     ]
    },
    {
     "data": {
      "application/vnd.jupyter.widget-view+json": {
       "model_id": "73c41ea24c4f46739f61312ae5981cd7",
       "version_major": 2,
       "version_minor": 0
      },
      "text/plain": [
       "HBox(children=(IntProgress(value=1, bar_style='info', max=1), HTML(value='')))"
      ]
     },
     "metadata": {
      "tags": []
     },
     "output_type": "display_data"
    },
    {
     "name": "stdout",
     "output_type": "stream",
     "text": [
      "Extracting ./MNIST/raw/train-images-idx3-ubyte.gz to ./MNIST/raw\n",
      "Downloading http://yann.lecun.com/exdb/mnist/train-labels-idx1-ubyte.gz to ./MNIST/raw/train-labels-idx1-ubyte.gz\n"
     ]
    },
    {
     "data": {
      "application/vnd.jupyter.widget-view+json": {
       "model_id": "39093a5e767c499a9a99409be5e36734",
       "version_major": 2,
       "version_minor": 0
      },
      "text/plain": [
       "HBox(children=(IntProgress(value=1, bar_style='info', max=1), HTML(value='')))"
      ]
     },
     "metadata": {
      "tags": []
     },
     "output_type": "display_data"
    },
    {
     "name": "stdout",
     "output_type": "stream",
     "text": [
      "Extracting ./MNIST/raw/train-labels-idx1-ubyte.gz to ./MNIST/raw\n",
      "Downloading http://yann.lecun.com/exdb/mnist/t10k-images-idx3-ubyte.gz to ./MNIST/raw/t10k-images-idx3-ubyte.gz\n"
     ]
    },
    {
     "data": {
      "application/vnd.jupyter.widget-view+json": {
       "model_id": "017532dbb80a4d33b4b996de6e15c433",
       "version_major": 2,
       "version_minor": 0
      },
      "text/plain": [
       "HBox(children=(IntProgress(value=1, bar_style='info', max=1), HTML(value='')))"
      ]
     },
     "metadata": {
      "tags": []
     },
     "output_type": "display_data"
    },
    {
     "name": "stdout",
     "output_type": "stream",
     "text": [
      "Extracting ./MNIST/raw/t10k-images-idx3-ubyte.gz to ./MNIST/raw\n",
      "Downloading http://yann.lecun.com/exdb/mnist/t10k-labels-idx1-ubyte.gz to ./MNIST/raw/t10k-labels-idx1-ubyte.gz\n"
     ]
    },
    {
     "data": {
      "application/vnd.jupyter.widget-view+json": {
       "model_id": "0a62830610da4f8bbbe2977729851f0c",
       "version_major": 2,
       "version_minor": 0
      },
      "text/plain": [
       "HBox(children=(IntProgress(value=1, bar_style='info', max=1), HTML(value='')))"
      ]
     },
     "metadata": {
      "tags": []
     },
     "output_type": "display_data"
    },
    {
     "name": "stdout",
     "output_type": "stream",
     "text": [
      "Extracting ./MNIST/raw/t10k-labels-idx1-ubyte.gz to ./MNIST/raw\n",
      "Processing...\n",
      "Done!\n"
     ]
    }
   ],
   "source": [
    "train_dataset = torchvision.datasets.MNIST(\n",
    "    root='.',\n",
    "    train=True,\n",
    "    transform=transform,\n",
    "    download=True)\n",
    "    "
   ]
  },
  {
   "cell_type": "code",
   "execution_count": null,
   "metadata": {
    "colab": {
     "base_uri": "https://localhost:8080/",
     "height": 34
    },
    "colab_type": "code",
    "id": "QF988JYLnwMU",
    "outputId": "17a5ba95-e6b0-4d0e-d22d-a58ff3d68eed"
   },
   "outputs": [
    {
     "data": {
      "text/plain": [
       "60000"
      ]
     },
     "execution_count": 4,
     "metadata": {
      "tags": []
     },
     "output_type": "execute_result"
    }
   ],
   "source": [
    "len(train_dataset)"
   ]
  },
  {
   "cell_type": "code",
   "execution_count": null,
   "metadata": {
    "colab": {},
    "colab_type": "code",
    "id": "Y0APhZRjkuHq"
   },
   "outputs": [],
   "source": [
    "batch_size = 128\n",
    "\n",
    "data_loader = torch.utils.data.DataLoader(dataset=train_dataset,\n",
    "                                          batch_size=batch_size, \n",
    "                                          shuffle=True)\n",
    "                                          "
   ]
  },
  {
   "cell_type": "code",
   "execution_count": null,
   "metadata": {
    "colab": {},
    "colab_type": "code",
    "id": "FRajJW9dli4X"
   },
   "outputs": [],
   "source": [
    "# Discriminator\n",
    "\n",
    "D = nn.Sequential(\n",
    "    nn.Linear(784, 512),\n",
    "    nn.LeakyReLU(0.2),\n",
    "    nn.Linear(512, 256),\n",
    "    nn.LeakyReLU(0.2),\n",
    "    nn.Linear(256, 1),\n",
    "    # nn.Sigmoid()\n",
    ")\n"
   ]
  },
  {
   "cell_type": "code",
   "execution_count": null,
   "metadata": {
    "colab": {},
    "colab_type": "code",
    "id": "odtjOKuBltVZ"
   },
   "outputs": [],
   "source": [
    "# Generator\n",
    "\n",
    "\n",
    "latent_dim = 100\n",
    "\n",
    "G = nn.Sequential(\n",
    "    nn.Linear(latent_dim, 256),\n",
    "    nn.LeakyReLU(0.2),\n",
    "    nn.BatchNorm1d(256, momentum=0.7),\n",
    "    nn.Linear(256, 512),\n",
    "    nn.LeakyReLU(0.2),\n",
    "    nn.BatchNorm1d(512, momentum=0.7),\n",
    "    nn.Linear(512, 1024),\n",
    "    nn.LeakyReLU(0.2),\n",
    "    nn.BatchNorm1d(1024, momentum=0.7),\n",
    "    nn.Linear(1024, 784),\n",
    "    nn.Tanh()\n",
    ")\n"
   ]
  },
  {
   "cell_type": "code",
   "execution_count": null,
   "metadata": {
    "colab": {},
    "colab_type": "code",
    "id": "Cj_QFhcWl_da"
   },
   "outputs": [],
   "source": [
    "device = torch.device('cuda' if torch.cuda.is_available() else 'cpu')\n",
    "\n",
    "D = D.to(device)\n",
    "G = G.to(device)\n"
   ]
  },
  {
   "cell_type": "code",
   "execution_count": null,
   "metadata": {
    "colab": {},
    "colab_type": "code",
    "id": "goBMEDaEmCXo"
   },
   "outputs": [],
   "source": [
    "criterion = nn.BCEWithLogitsLoss()\n",
    "\n",
    "d_optimizer = torch.optim.Adam(D.parameters(), lr=0.0002, betas=(0.5, 0.999))\n",
    "g_optimizer = torch.optim.Adam(G.parameters(), lr=0.0002, betas=(0.5, 0.999))"
   ]
  },
  {
   "cell_type": "code",
   "execution_count": null,
   "metadata": {
    "colab": {},
    "colab_type": "code",
    "id": "exNRtVZRmZ-W"
   },
   "outputs": [],
   "source": [
    "def scale_image(img):\n",
    "  \n",
    "  out = (img + 1) / 2    # scale image back to (0, 1)\n",
    "\n",
    "  return out\n",
    "\n"
   ]
  },
  {
   "cell_type": "code",
   "execution_count": null,
   "metadata": {
    "colab": {},
    "colab_type": "code",
    "id": "fIIZIjSNqo8j"
   },
   "outputs": [],
   "source": [
    "if not os.path.exists('gan_images'):\n",
    "  os.makedirs('gan_images')"
   ]
  },
  {
   "cell_type": "code",
   "execution_count": null,
   "metadata": {
    "colab": {
     "base_uri": "https://localhost:8080/",
     "height": 1000
    },
    "colab_type": "code",
    "id": "52NEqSu2m9fk",
    "outputId": "c12e40f6-4298-459b-8440-fab2e13e60b7"
   },
   "outputs": [
    {
     "name": "stdout",
     "output_type": "stream",
     "text": [
      "Epoch: 0, d_loss: 0.68047034740448, g_loss: 0.6662955284118652\n",
      "Epoch: 1, d_loss: 0.7071035504341125, g_loss: 0.8107303380966187\n",
      "Epoch: 2, d_loss: 0.6876696348190308, g_loss: 0.7310963869094849\n",
      "Epoch: 3, d_loss: 0.6825389862060547, g_loss: 0.7769100069999695\n",
      "Epoch: 4, d_loss: 0.6889893412590027, g_loss: 0.7556778788566589\n",
      "Epoch: 5, d_loss: 0.682299017906189, g_loss: 0.7201077938079834\n",
      "Epoch: 6, d_loss: 0.6838651895523071, g_loss: 0.740240752696991\n",
      "Epoch: 7, d_loss: 0.6866905689239502, g_loss: 0.727881908416748\n",
      "Epoch: 8, d_loss: 0.6904422044754028, g_loss: 0.6928049921989441\n",
      "Epoch: 9, d_loss: 0.6933594942092896, g_loss: 0.7346236705780029\n",
      "Epoch: 10, d_loss: 0.6938905715942383, g_loss: 0.722802996635437\n",
      "Epoch: 11, d_loss: 0.6922292709350586, g_loss: 0.7095546126365662\n",
      "Epoch: 12, d_loss: 0.6857796907424927, g_loss: 0.721759021282196\n",
      "Epoch: 13, d_loss: 0.7025293111801147, g_loss: 0.7216035723686218\n",
      "Epoch: 14, d_loss: 0.6925420761108398, g_loss: 0.7016552686691284\n",
      "Epoch: 15, d_loss: 0.6858004927635193, g_loss: 0.7063485980033875\n",
      "Epoch: 16, d_loss: 0.6827235817909241, g_loss: 0.7139015197753906\n",
      "Epoch: 17, d_loss: 0.6843976378440857, g_loss: 0.7100850939750671\n",
      "Epoch: 18, d_loss: 0.6828218698501587, g_loss: 0.7032086253166199\n",
      "Epoch: 19, d_loss: 0.6964502334594727, g_loss: 0.7221301794052124\n",
      "Epoch: 20, d_loss: 0.6895737051963806, g_loss: 0.7264952063560486\n",
      "Epoch: 21, d_loss: 0.6864655017852783, g_loss: 0.727777361869812\n",
      "Epoch: 22, d_loss: 0.6819676160812378, g_loss: 0.7269155979156494\n",
      "Epoch: 23, d_loss: 0.6873853206634521, g_loss: 0.7100242972373962\n",
      "Epoch: 24, d_loss: 0.6790424585342407, g_loss: 0.7280709147453308\n",
      "Epoch: 25, d_loss: 0.6866170167922974, g_loss: 0.6928066611289978\n",
      "Epoch: 26, d_loss: 0.6858683228492737, g_loss: 0.7125622630119324\n",
      "Epoch: 27, d_loss: 0.680077075958252, g_loss: 0.7361773252487183\n",
      "Epoch: 28, d_loss: 0.6892470121383667, g_loss: 0.7227584719657898\n",
      "Epoch: 29, d_loss: 0.6935541033744812, g_loss: 0.7226096987724304\n",
      "Epoch: 30, d_loss: 0.6958290338516235, g_loss: 0.7109475135803223\n",
      "Epoch: 31, d_loss: 0.6811560392379761, g_loss: 0.711504340171814\n",
      "Epoch: 32, d_loss: 0.6809204816818237, g_loss: 0.7109165191650391\n",
      "Epoch: 33, d_loss: 0.6825076937675476, g_loss: 0.7259532809257507\n",
      "Epoch: 34, d_loss: 0.6741014719009399, g_loss: 0.7292635440826416\n",
      "Epoch: 35, d_loss: 0.6779860854148865, g_loss: 0.7397608757019043\n",
      "Epoch: 36, d_loss: 0.678226113319397, g_loss: 0.6941716074943542\n",
      "Epoch: 37, d_loss: 0.6765637993812561, g_loss: 0.7226691246032715\n",
      "Epoch: 38, d_loss: 0.6828417181968689, g_loss: 0.6936487555503845\n",
      "Epoch: 39, d_loss: 0.6819656491279602, g_loss: 0.7586768865585327\n",
      "Epoch: 40, d_loss: 0.6907001733779907, g_loss: 0.7112574577331543\n",
      "Epoch: 41, d_loss: 0.6837588548660278, g_loss: 0.7103793025016785\n",
      "Epoch: 42, d_loss: 0.682314395904541, g_loss: 0.7536737322807312\n",
      "Epoch: 43, d_loss: 0.6831452250480652, g_loss: 0.707511305809021\n",
      "Epoch: 44, d_loss: 0.6830819845199585, g_loss: 0.684232234954834\n",
      "Epoch: 45, d_loss: 0.680965006351471, g_loss: 0.6688787341117859\n",
      "Epoch: 46, d_loss: 0.6748060584068298, g_loss: 0.7853573560714722\n",
      "Epoch: 47, d_loss: 0.6666673421859741, g_loss: 0.6972513198852539\n",
      "Epoch: 48, d_loss: 0.6658814549446106, g_loss: 0.6781322360038757\n",
      "Epoch: 49, d_loss: 0.6716107726097107, g_loss: 0.7096542119979858\n",
      "Epoch: 50, d_loss: 0.6878384947776794, g_loss: 0.7354707717895508\n",
      "Epoch: 51, d_loss: 0.6752713918685913, g_loss: 0.6980993747711182\n",
      "Epoch: 52, d_loss: 0.6638382077217102, g_loss: 0.6740452647209167\n",
      "Epoch: 53, d_loss: 0.6720942258834839, g_loss: 0.7421283721923828\n",
      "Epoch: 54, d_loss: 0.7048872709274292, g_loss: 0.6844462752342224\n",
      "Epoch: 55, d_loss: 0.6922224164009094, g_loss: 0.7354629039764404\n",
      "Epoch: 56, d_loss: 0.6768404245376587, g_loss: 0.7372239828109741\n",
      "Epoch: 57, d_loss: 0.6605107188224792, g_loss: 0.8252153396606445\n",
      "Epoch: 58, d_loss: 0.6810798645019531, g_loss: 0.714797854423523\n",
      "Epoch: 59, d_loss: 0.6719847917556763, g_loss: 0.7441215515136719\n",
      "Epoch: 60, d_loss: 0.6755347847938538, g_loss: 0.7820554971694946\n",
      "Epoch: 61, d_loss: 0.6824089288711548, g_loss: 0.6871232986450195\n",
      "Epoch: 62, d_loss: 0.6870512962341309, g_loss: 0.7648457884788513\n",
      "Epoch: 63, d_loss: 0.6568657159805298, g_loss: 0.7128568887710571\n",
      "Epoch: 64, d_loss: 0.685762882232666, g_loss: 0.7108990550041199\n",
      "Epoch: 65, d_loss: 0.6666077375411987, g_loss: 0.7791919708251953\n",
      "Epoch: 66, d_loss: 0.6589709520339966, g_loss: 0.7903838157653809\n",
      "Epoch: 67, d_loss: 0.6467185020446777, g_loss: 0.8050467371940613\n",
      "Epoch: 68, d_loss: 0.678742527961731, g_loss: 0.8804256319999695\n",
      "Epoch: 69, d_loss: 0.6802352666854858, g_loss: 0.7986666560173035\n",
      "Epoch: 70, d_loss: 0.6492096185684204, g_loss: 0.8070423007011414\n",
      "Epoch: 71, d_loss: 0.6644032001495361, g_loss: 0.8080989122390747\n",
      "Epoch: 72, d_loss: 0.6569769382476807, g_loss: 0.7802828550338745\n",
      "Epoch: 73, d_loss: 0.6435991525650024, g_loss: 0.8299771547317505\n",
      "Epoch: 74, d_loss: 0.6375172138214111, g_loss: 0.7663172483444214\n",
      "Epoch: 75, d_loss: 0.6629427671432495, g_loss: 0.7159818410873413\n",
      "Epoch: 76, d_loss: 0.6725249290466309, g_loss: 0.8776440620422363\n",
      "Epoch: 77, d_loss: 0.6428819894790649, g_loss: 0.740677535533905\n",
      "Epoch: 78, d_loss: 0.6557457447052002, g_loss: 0.7911626696586609\n",
      "Epoch: 79, d_loss: 0.6415829658508301, g_loss: 0.7429285049438477\n",
      "Epoch: 80, d_loss: 0.6595019102096558, g_loss: 0.8408135771751404\n",
      "Epoch: 81, d_loss: 0.6832220554351807, g_loss: 0.6848308444023132\n",
      "Epoch: 82, d_loss: 0.6285762190818787, g_loss: 0.8379456400871277\n",
      "Epoch: 83, d_loss: 0.6491806507110596, g_loss: 0.8213204145431519\n",
      "Epoch: 84, d_loss: 0.634128212928772, g_loss: 0.8798631429672241\n",
      "Epoch: 85, d_loss: 0.6224640607833862, g_loss: 0.9183715581893921\n",
      "Epoch: 86, d_loss: 0.6428265571594238, g_loss: 0.8273493051528931\n",
      "Epoch: 87, d_loss: 0.6491684913635254, g_loss: 0.9278225302696228\n",
      "Epoch: 88, d_loss: 0.6465473175048828, g_loss: 0.7267588376998901\n",
      "Epoch: 89, d_loss: 0.6392279863357544, g_loss: 0.7329060435295105\n",
      "Epoch: 90, d_loss: 0.6342082023620605, g_loss: 0.6672000885009766\n",
      "Epoch: 91, d_loss: 0.6355448365211487, g_loss: 0.698086678981781\n",
      "Epoch: 92, d_loss: 0.6444661617279053, g_loss: 0.7448336482048035\n",
      "Epoch: 93, d_loss: 0.6433132886886597, g_loss: 0.9928705096244812\n",
      "Epoch: 94, d_loss: 0.6704162359237671, g_loss: 1.1858638525009155\n",
      "Epoch: 95, d_loss: 0.6652679443359375, g_loss: 0.9158896207809448\n",
      "Epoch: 96, d_loss: 0.6495113372802734, g_loss: 0.9590241312980652\n",
      "Epoch: 97, d_loss: 0.6196871995925903, g_loss: 0.913834273815155\n",
      "Epoch: 98, d_loss: 0.6474353075027466, g_loss: 0.8166608810424805\n",
      "Epoch: 99, d_loss: 0.6043314337730408, g_loss: 0.8749222755432129\n",
      "Epoch: 100, d_loss: 0.619896411895752, g_loss: 0.762423038482666\n",
      "Epoch: 101, d_loss: 0.6399152278900146, g_loss: 0.7869760990142822\n",
      "Epoch: 102, d_loss: 0.6258629560470581, g_loss: 0.9172121286392212\n",
      "Epoch: 103, d_loss: 0.6755070686340332, g_loss: 0.5647030472755432\n",
      "Epoch: 104, d_loss: 0.6217547059059143, g_loss: 0.7962457537651062\n",
      "Epoch: 105, d_loss: 0.5946792364120483, g_loss: 0.9027175903320312\n",
      "Epoch: 106, d_loss: 0.6264377236366272, g_loss: 0.7566294074058533\n",
      "Epoch: 107, d_loss: 0.6513924598693848, g_loss: 1.0435373783111572\n",
      "Epoch: 108, d_loss: 0.6249121427536011, g_loss: 0.8795549273490906\n",
      "Epoch: 109, d_loss: 0.6010862588882446, g_loss: 1.0609781742095947\n",
      "Epoch: 110, d_loss: 0.6256152391433716, g_loss: 0.6964928507804871\n",
      "Epoch: 111, d_loss: 0.589897632598877, g_loss: 0.8801838755607605\n",
      "Epoch: 112, d_loss: 0.632169246673584, g_loss: 0.9370161294937134\n",
      "Epoch: 113, d_loss: 0.5644417405128479, g_loss: 1.067215919494629\n",
      "Epoch: 114, d_loss: 0.6264872550964355, g_loss: 0.9085983037948608\n",
      "Epoch: 115, d_loss: 0.6472886800765991, g_loss: 1.0267482995986938\n",
      "Epoch: 116, d_loss: 0.6054810881614685, g_loss: 1.0489263534545898\n",
      "Epoch: 117, d_loss: 0.6304013133049011, g_loss: 0.7069635391235352\n",
      "Epoch: 118, d_loss: 0.6260343194007874, g_loss: 0.6344516277313232\n",
      "Epoch: 119, d_loss: 0.6079336404800415, g_loss: 0.704066276550293\n",
      "Epoch: 120, d_loss: 0.6296005249023438, g_loss: 1.1204028129577637\n",
      "Epoch: 121, d_loss: 0.5757097601890564, g_loss: 1.0785564184188843\n",
      "Epoch: 122, d_loss: 0.6208320260047913, g_loss: 1.0890874862670898\n",
      "Epoch: 123, d_loss: 0.6291481256484985, g_loss: 0.6937216520309448\n",
      "Epoch: 124, d_loss: 0.6212041974067688, g_loss: 0.7616704702377319\n",
      "Epoch: 125, d_loss: 0.6018580198287964, g_loss: 0.8471360206604004\n",
      "Epoch: 126, d_loss: 0.5984289646148682, g_loss: 1.2073324918746948\n",
      "Epoch: 127, d_loss: 0.5855657458305359, g_loss: 1.1539983749389648\n",
      "Epoch: 128, d_loss: 0.6004931330680847, g_loss: 1.0425747632980347\n",
      "Epoch: 129, d_loss: 0.5810738205909729, g_loss: 0.8689230680465698\n",
      "Epoch: 130, d_loss: 0.6073412895202637, g_loss: 0.6644872426986694\n",
      "Epoch: 131, d_loss: 0.6054567098617554, g_loss: 0.8172377347946167\n",
      "Epoch: 132, d_loss: 0.6520417928695679, g_loss: 1.150303602218628\n",
      "Epoch: 133, d_loss: 0.5607324242591858, g_loss: 0.817275881767273\n",
      "Epoch: 134, d_loss: 0.5878159403800964, g_loss: 0.8329790830612183\n",
      "Epoch: 135, d_loss: 0.5823671817779541, g_loss: 1.0657203197479248\n",
      "Epoch: 136, d_loss: 0.6126415133476257, g_loss: 0.9470409750938416\n",
      "Epoch: 137, d_loss: 0.5995650887489319, g_loss: 0.9697908759117126\n",
      "Epoch: 138, d_loss: 0.5831810832023621, g_loss: 0.7298905849456787\n",
      "Epoch: 139, d_loss: 0.6103289127349854, g_loss: 0.6823201179504395\n",
      "Epoch: 140, d_loss: 0.5832771062850952, g_loss: 0.7390172481536865\n",
      "Epoch: 141, d_loss: 0.6174308061599731, g_loss: 0.7362295985221863\n",
      "Epoch: 142, d_loss: 0.6135114431381226, g_loss: 0.505983829498291\n",
      "Epoch: 143, d_loss: 0.6090008020401001, g_loss: 0.8439984321594238\n",
      "Epoch: 144, d_loss: 0.5857703685760498, g_loss: 0.9612771272659302\n",
      "Epoch: 145, d_loss: 0.5764074921607971, g_loss: 0.9648935794830322\n",
      "Epoch: 146, d_loss: 0.5665673613548279, g_loss: 1.1524683237075806\n",
      "Epoch: 147, d_loss: 0.6582280397415161, g_loss: 1.2895231246948242\n",
      "Epoch: 148, d_loss: 0.6064726114273071, g_loss: 1.0084896087646484\n",
      "Epoch: 149, d_loss: 0.5752464532852173, g_loss: 1.0760657787322998\n",
      "Epoch: 150, d_loss: 0.5522543787956238, g_loss: 0.933159351348877\n",
      "Epoch: 151, d_loss: 0.6176514625549316, g_loss: 0.5748676657676697\n",
      "Epoch: 152, d_loss: 0.5704931616783142, g_loss: 1.0455714464187622\n",
      "Epoch: 153, d_loss: 0.574845552444458, g_loss: 0.7821750640869141\n",
      "Epoch: 154, d_loss: 0.5791411995887756, g_loss: 0.929151713848114\n",
      "Epoch: 155, d_loss: 0.5730160474777222, g_loss: 1.1877408027648926\n",
      "Epoch: 156, d_loss: 0.5798177719116211, g_loss: 0.6453063488006592\n",
      "Epoch: 157, d_loss: 0.5596698522567749, g_loss: 0.929173469543457\n",
      "Epoch: 158, d_loss: 0.6009684801101685, g_loss: 0.9604613780975342\n",
      "Epoch: 159, d_loss: 0.6126288771629333, g_loss: 1.0803475379943848\n",
      "Epoch: 160, d_loss: 0.5578106045722961, g_loss: 0.9212462306022644\n",
      "Epoch: 161, d_loss: 0.5715539455413818, g_loss: 0.8115806579589844\n",
      "Epoch: 162, d_loss: 0.5891807675361633, g_loss: 0.9099726676940918\n",
      "Epoch: 163, d_loss: 0.6923277974128723, g_loss: 1.2565555572509766\n",
      "Epoch: 164, d_loss: 0.5490954518318176, g_loss: 1.0426182746887207\n",
      "Epoch: 165, d_loss: 0.5540221929550171, g_loss: 1.1672203540802002\n",
      "Epoch: 166, d_loss: 0.6163991689682007, g_loss: 0.7267354726791382\n",
      "Epoch: 167, d_loss: 0.5412706136703491, g_loss: 0.8949594497680664\n",
      "Epoch: 168, d_loss: 0.5507487058639526, g_loss: 0.9471418261528015\n",
      "Epoch: 169, d_loss: 0.5836361646652222, g_loss: 1.1378302574157715\n",
      "Epoch: 170, d_loss: 0.588944673538208, g_loss: 0.8175045251846313\n",
      "Epoch: 171, d_loss: 0.5679262280464172, g_loss: 0.7007099986076355\n",
      "Epoch: 172, d_loss: 0.5751787424087524, g_loss: 1.0147056579589844\n",
      "Epoch: 173, d_loss: 0.5939623117446899, g_loss: 1.0799212455749512\n",
      "Epoch: 174, d_loss: 0.5553915500640869, g_loss: 1.206458330154419\n",
      "Epoch: 175, d_loss: 0.5508378744125366, g_loss: 1.1732509136199951\n",
      "Epoch: 176, d_loss: 0.5930142402648926, g_loss: 0.9957860708236694\n",
      "Epoch: 177, d_loss: 0.5838044285774231, g_loss: 1.2166380882263184\n",
      "Epoch: 178, d_loss: 0.5795526504516602, g_loss: 0.8288220167160034\n",
      "Epoch: 179, d_loss: 0.5611302256584167, g_loss: 0.9733623266220093\n",
      "Epoch: 180, d_loss: 0.5655210018157959, g_loss: 0.9379914999008179\n",
      "Epoch: 181, d_loss: 0.5312486290931702, g_loss: 0.8160726428031921\n",
      "Epoch: 182, d_loss: 0.5958672761917114, g_loss: 1.2647857666015625\n",
      "Epoch: 183, d_loss: 0.5954423546791077, g_loss: 0.7617099285125732\n",
      "Epoch: 184, d_loss: 0.5036373734474182, g_loss: 1.0707138776779175\n",
      "Epoch: 185, d_loss: 0.6129910945892334, g_loss: 0.9206754565238953\n",
      "Epoch: 186, d_loss: 0.6089519262313843, g_loss: 0.6458578109741211\n",
      "Epoch: 187, d_loss: 0.5319960117340088, g_loss: 1.0860772132873535\n",
      "Epoch: 188, d_loss: 0.5678609609603882, g_loss: 1.2474949359893799\n",
      "Epoch: 189, d_loss: 0.5912390947341919, g_loss: 1.228116750717163\n",
      "Epoch: 190, d_loss: 0.6399987936019897, g_loss: 0.6476835012435913\n",
      "Epoch: 191, d_loss: 0.5349563360214233, g_loss: 1.1732795238494873\n",
      "Epoch: 192, d_loss: 0.5425090193748474, g_loss: 1.13154935836792\n",
      "Epoch: 193, d_loss: 0.5742340683937073, g_loss: 0.8198668956756592\n",
      "Epoch: 194, d_loss: 0.5863274335861206, g_loss: 1.327164888381958\n",
      "Epoch: 195, d_loss: 0.6269355416297913, g_loss: 1.4256224632263184\n",
      "Epoch: 196, d_loss: 0.5676370859146118, g_loss: 1.455588698387146\n",
      "Epoch: 197, d_loss: 0.582366406917572, g_loss: 1.350592017173767\n",
      "Epoch: 198, d_loss: 0.5383979678153992, g_loss: 1.0657343864440918\n",
      "Epoch: 199, d_loss: 0.5750911235809326, g_loss: 0.874100923538208\n"
     ]
    }
   ],
   "source": [
    "ones_ = torch.ones(batch_size, 1).to(device)\n",
    "zeros_ = torch.zeros(batch_size, 1).to(device)\n",
    "\n",
    "d_losses = []\n",
    "g_losses = []\n",
    "\n",
    "\n",
    "\n",
    "for epoch in range(200):\n",
    "\n",
    "\n",
    "  for inputs, _ in data_loader:\n",
    "\n",
    "    n = inputs.size(0)\n",
    "    inputs = inputs.reshape(n, 784).to(device)\n",
    "\n",
    "    ones = ones_[:n]\n",
    "    zeros = zeros_[:n]\n",
    "\n",
    "\n",
    "\n",
    "    ###########################\n",
    "    ### Train discriminator ###\n",
    "    ###########################\n",
    "\n",
    "    # real images\n",
    "    real_outputs = D(inputs)\n",
    "    d_loss_real = criterion(real_outputs, ones)\n",
    "\n",
    "    # fake images\n",
    "    noise = torch.randn(n, latent_dim).to(device)\n",
    "    fake_images = G(noise)\n",
    "    fake_outputs = D(fake_images)\n",
    "    d_loss_fake = criterion(fake_outputs, zeros)\n",
    "\n",
    "    d_loss = 0.5 * (d_loss_real + d_loss_fake)\n",
    "    d_optimizer.zero_grad()\n",
    "    g_optimizer.zero_grad()\n",
    "    d_loss.backward()\n",
    "    d_optimizer.step()\n",
    "\n",
    "\n",
    "    #######################\n",
    "    ### Train generator ###\n",
    "    #######################\n",
    "\n",
    "    for _ in range(2):  # do it twice\n",
    "\n",
    "      # fake images\n",
    "      noise = torch.randn(n, latent_dim).to(device)\n",
    "      fake_images = G(noise)\n",
    "      fake_outputs = D(fake_images)\n",
    "\n",
    "      g_loss = criterion(fake_outputs, ones)  # reverse the labels\n",
    "\n",
    "      d_optimizer.zero_grad()\n",
    "      g_optimizer.zero_grad()\n",
    "      g_loss.backward()\n",
    "      g_optimizer.step()\n",
    "\n",
    "\n",
    "\n",
    "    d_losses.append(d_loss.item())\n",
    "    g_losses.append(g_loss.item())\n",
    "\n",
    "\n",
    "\n",
    "  print(f\"Epoch: {epoch}, d_loss: {d_loss.item()}, g_loss: {g_loss.item()}\")\n",
    "\n",
    "\n",
    "  \n",
    "  fake_images = fake_images.reshape(-1, 1, 28, 28)\n",
    "\n",
    "  save_image(scale_image(fake_images), f\"gan_images/{epoch+1}.png\")  # save a batch of images to file\n",
    "\n"
   ]
  },
  {
   "cell_type": "code",
   "execution_count": null,
   "metadata": {
    "colab": {
     "base_uri": "https://localhost:8080/",
     "height": 286
    },
    "colab_type": "code",
    "id": "gfy5u8v_qzMi",
    "outputId": "07f7d6f2-8c22-43b1-8f09-9420c4e6609f"
   },
   "outputs": [
    {
     "data": {
      "text/plain": [
       "<matplotlib.legend.Legend at 0x7fb77aca2a20>"
      ]
     },
     "execution_count": 13,
     "metadata": {
      "tags": []
     },
     "output_type": "execute_result"
    },
    {
     "data": {
      "image/png": "[encoded data removed]",
      "text/plain": [
       "<Figure size 432x288 with 1 Axes>"
      ]
     },
     "metadata": {
      "tags": []
     },
     "output_type": "display_data"
    }
   ],
   "source": [
    "plt.plot(g_losses, label='g_losses')\n",
    "plt.plot(d_losses, label='d_losses')\n",
    "plt.legend()"
   ]
  },
  {
   "cell_type": "code",
   "execution_count": null,
   "metadata": {
    "colab": {
     "base_uri": "https://localhost:8080/",
     "height": 286
    },
    "colab_type": "code",
    "id": "Gy5d-9g2q9wI",
    "outputId": "1d9034dc-e40c-4862-cba5-bd3e559d2696"
   },
   "outputs": [
    {
     "data": {
      "text/plain": [
       "<matplotlib.image.AxesImage at 0x7fb77407f550>"
      ]
     },
     "execution_count": 14,
     "metadata": {
      "tags": []
     },
     "output_type": "execute_result"
    },
    {
     "data": {
      "image/png": "[encoded data removed]",
      "text/plain": [
       "<Figure size 432x288 with 1 Axes>"
      ]
     },
     "metadata": {
      "tags": []
     },
     "output_type": "display_data"
    }
   ],
   "source": [
    "a = imread('gan_images/1.png')\n",
    "plt.imshow(a)"
   ]
  },
  {
   "cell_type": "code",
   "execution_count": null,
   "metadata": {
    "colab": {
     "base_uri": "https://localhost:8080/",
     "height": 286
    },
    "colab_type": "code",
    "id": "4l0siyQkq_07",
    "outputId": "f2cc1370-05c9-41ec-a2db-ac68e820fbb7"
   },
   "outputs": [
    {
     "data": {
      "text/plain": [
       "<matplotlib.image.AxesImage at 0x7fb773febfd0>"
      ]
     },
     "execution_count": 15,
     "metadata": {
      "tags": []
     },
     "output_type": "execute_result"
    },
    {
     "data": {
      "image/png": "[encoded data removed]",
      "text/plain": [
       "<Figure size 432x288 with 1 Axes>"
      ]
     },
     "metadata": {
      "tags": []
     },
     "output_type": "display_data"
    }
   ],
   "source": [
    "a = imread('gan_images/50.png')\n",
    "plt.imshow(a)"
   ]
  },
  {
   "cell_type": "code",
   "execution_count": null,
   "metadata": {
    "colab": {
     "base_uri": "https://localhost:8080/",
     "height": 286
    },
    "colab_type": "code",
    "id": "YJGyoS_nrEyv",
    "outputId": "c72bee87-d5ac-443e-80de-bbd8bb71ca54"
   },
   "outputs": [
    {
     "data": {
      "text/plain": [
       "<matplotlib.image.AxesImage at 0x7fb7727d1198>"
      ]
     },
     "execution_count": 16,
     "metadata": {
      "tags": []
     },
     "output_type": "execute_result"
    },
    {
     "data": {
      "image/png": "[encoded data removed]",
      "text/plain": [
       "<Figure size 432x288 with 1 Axes>"
      ]
     },
     "metadata": {
      "tags": []
     },
     "output_type": "display_data"
    }
   ],
   "source": [
    "a = imread('gan_images/100.png')\n",
    "plt.imshow(a)"
   ]
  },
  {
   "cell_type": "code",
   "execution_count": null,
   "metadata": {
    "colab": {
     "base_uri": "https://localhost:8080/",
     "height": 286
    },
    "colab_type": "code",
    "id": "-t93ihtgrFKE",
    "outputId": "5ac5aa2b-3735-4461-f81c-05264f3e4640"
   },
   "outputs": [
    {
     "data": {
      "text/plain": [
       "<matplotlib.image.AxesImage at 0x7fb772729320>"
      ]
     },
     "execution_count": 17,
     "metadata": {
      "tags": []
     },
     "output_type": "execute_result"
    },
    {
     "data": {
      "image/png": "[encoded data removed]",
      "text/plain": [
       "<Figure size 432x288 with 1 Axes>"
      ]
     },
     "metadata": {
      "tags": []
     },
     "output_type": "display_data"
    }
   ],
   "source": [
    "a = imread('gan_images/150.png')\n",
    "plt.imshow(a)"
   ]
  },
  {
   "cell_type": "code",
   "execution_count": null,
   "metadata": {
    "colab": {
     "base_uri": "https://localhost:8080/",
     "height": 286
    },
    "colab_type": "code",
    "id": "xrtKpbLwrFaY",
    "outputId": "07deccbe-f8f2-439b-f755-94123e2076b1"
   },
   "outputs": [
    {
     "data": {
      "text/plain": [
       "<matplotlib.image.AxesImage at 0x7fb7727074a8>"
      ]
     },
     "execution_count": 18,
     "metadata": {
      "tags": []
     },
     "output_type": "execute_result"
    },
    {
     "data": {
      "image/png": "[encoded data removed]",
      "text/plain": [
       "<Figure size 432x288 with 1 Axes>"
      ]
     },
     "metadata": {
      "tags": []
     },
     "output_type": "display_data"
    }
   ],
   "source": [
    "a = imread('gan_images/200.png')\n",
    "plt.imshow(a)"
   ]
  }
 ],
 "metadata": {
  "accelerator": "GPU",
  "colab": {
   "name": "PyTorch GAN.ipynb",
   "provenance": []
  },
  "kernelspec": {
   "display_name": "Python 3 (ipykernel)",
   "language": "python",
   "name": "python3"
  },
  "language_info": {
   "codemirror_mode": {
    "name": "ipython",
    "version": 3
   },
   "file_extension": ".py",
   "mimetype": "text/x-python",
   "name": "python",
   "nbconvert_exporter": "python",
   "pygments_lexer": "ipython3",
   "version": "3.8.8"
  },
  "widgets": {
   "application/vnd.jupyter.widget-state+json": {
    "00c57892564e49ca824aa0bced5e4378": {
     "model_module": "@jupyter-widgets/controls",
     "model_name": "ProgressStyleModel",
     "state": {
      "_model_module": "@jupyter-widgets/controls",
      "_model_module_version": "1.5.0",
      "_model_name": "ProgressStyleModel",
      "_view_count": null,
      "_view_module": "@jupyter-widgets/base",
      "_view_module_version": "1.2.0",
      "_view_name": "StyleView",
      "bar_color": null,
      "description_width": ""
     }
    },
    "017532dbb80a4d33b4b996de6e15c433": {
     "model_module": "@jupyter-widgets/controls",
     "model_name": "HBoxModel",
     "state": {
      "_dom_classes": [],
      "_model_module": "@jupyter-widgets/controls",
      "_model_module_version": "1.5.0",
      "_model_name": "HBoxModel",
      "_view_count": null,
      "_view_module": "@jupyter-widgets/controls",
      "_view_module_version": "1.5.0",
      "_view_name": "HBoxView",
      "box_style": "",
      "children": [
       "IPY_MODEL_d5252c71f8d348cfa31a47fb3e318309",
       "IPY_MODEL_2609217707b347e4b46d273441c49953"
      ],
      "layout": "IPY_MODEL_cb5f37b0dcfb4248b03e7864a10d1d9f"
     }
    },
    "045e4e384fba49ce8bc5797d9b7c621a": {
     "model_module": "@jupyter-widgets/base",
     "model_name": "LayoutModel",
     "state": {
      "_model_module": "@jupyter-widgets/base",
      "_model_module_version": "1.2.0",
      "_model_name": "LayoutModel",
      "_view_count": null,
      "_view_module": "@jupyter-widgets/base",
      "_view_module_version": "1.2.0",
      "_view_name": "LayoutView",
      "align_content": null,
      "align_items": null,
      "align_self": null,
      "border": null,
      "bottom": null,
      "display": null,
      "flex": null,
      "flex_flow": null,
      "grid_area": null,
      "grid_auto_columns": null,
      "grid_auto_flow": null,
      "grid_auto_rows": null,
      "grid_column": null,
      "grid_gap": null,
      "grid_row": null,
      "grid_template_areas": null,
      "grid_template_columns": null,
      "grid_template_rows": null,
      "height": null,
      "justify_content": null,
      "justify_items": null,
      "left": null,
      "margin": null,
      "max_height": null,
      "max_width": null,
      "min_height": null,
      "min_width": null,
      "object_fit": null,
      "object_position": null,
      "order": null,
      "overflow": null,
      "overflow_x": null,
      "overflow_y": null,
      "padding": null,
      "right": null,
      "top": null,
      "visibility": null,
      "width": null
     }
    },
    "09a38233082248e297a9fefef4d953f8": {
     "model_module": "@jupyter-widgets/controls",
     "model_name": "DescriptionStyleModel",
     "state": {
      "_model_module": "@jupyter-widgets/controls",
      "_model_module_version": "1.5.0",
      "_model_name": "DescriptionStyleModel",
      "_view_count": null,
      "_view_module": "@jupyter-widgets/base",
      "_view_module_version": "1.2.0",
      "_view_name": "StyleView",
      "description_width": ""
     }
    },
    "0a62830610da4f8bbbe2977729851f0c": {
     "model_module": "@jupyter-widgets/controls",
     "model_name": "HBoxModel",
     "state": {
      "_dom_classes": [],
      "_model_module": "@jupyter-widgets/controls",
      "_model_module_version": "1.5.0",
      "_model_name": "HBoxModel",
      "_view_count": null,
      "_view_module": "@jupyter-widgets/controls",
      "_view_module_version": "1.5.0",
      "_view_name": "HBoxView",
      "box_style": "",
      "children": [
       "IPY_MODEL_3b0664c477344b5bb101d6c94d39cf66",
       "IPY_MODEL_ff9bb5ed732a46e2a15034599555959d"
      ],
      "layout": "IPY_MODEL_c960b2a3e09146bd89489dfc3929e0fb"
     }
    },
    "1eaae3af70134129aa1be142d29467dc": {
     "model_module": "@jupyter-widgets/controls",
     "model_name": "DescriptionStyleModel",
     "state": {
      "_model_module": "@jupyter-widgets/controls",
      "_model_module_version": "1.5.0",
      "_model_name": "DescriptionStyleModel",
      "_view_count": null,
      "_view_module": "@jupyter-widgets/base",
      "_view_module_version": "1.2.0",
      "_view_name": "StyleView",
      "description_width": ""
     }
    },
    "22e7cdd81fcb45d7a1d3522efbb64cdc": {
     "model_module": "@jupyter-widgets/controls",
     "model_name": "ProgressStyleModel",
     "state": {
      "_model_module": "@jupyter-widgets/controls",
      "_model_module_version": "1.5.0",
      "_model_name": "ProgressStyleModel",
      "_view_count": null,
      "_view_module": "@jupyter-widgets/base",
      "_view_module_version": "1.2.0",
      "_view_name": "StyleView",
      "bar_color": null,
      "description_width": ""
     }
    },
    "2609217707b347e4b46d273441c49953": {
     "model_module": "@jupyter-widgets/controls",
     "model_name": "HTMLModel",
     "state": {
      "_dom_classes": [],
      "_model_module": "@jupyter-widgets/controls",
      "_model_module_version": "1.5.0",
      "_model_name": "HTMLModel",
      "_view_count": null,
      "_view_module": "@jupyter-widgets/controls",
      "_view_module_version": "1.5.0",
      "_view_name": "HTMLView",
      "description": "",
      "description_tooltip": null,
      "layout": "IPY_MODEL_4c647347006c4813b1eb0dffa208c7e4",
      "placeholder": "​",
      "style": "IPY_MODEL_1eaae3af70134129aa1be142d29467dc",
      "value": "1654784it [00:23, 399815.59it/s]"
     }
    },
    "37053cffd5bb4c2b94c8cd72ab4b4b84": {
     "model_module": "@jupyter-widgets/controls",
     "model_name": "HTMLModel",
     "state": {
      "_dom_classes": [],
      "_model_module": "@jupyter-widgets/controls",
      "_model_module_version": "1.5.0",
      "_model_name": "HTMLModel",
      "_view_count": null,
      "_view_module": "@jupyter-widgets/controls",
      "_view_module_version": "1.5.0",
      "_view_name": "HTMLView",
      "description": "",
      "description_tooltip": null,
      "layout": "IPY_MODEL_3f8a4f33ff924393820704deacf7689f",
      "placeholder": "​",
      "style": "IPY_MODEL_4cafe15551a148f89d996247226bed2d",
      "value": "9920512it [00:30, 490215.44it/s]"
     }
    },
    "39093a5e767c499a9a99409be5e36734": {
     "model_module": "@jupyter-widgets/controls",
     "model_name": "HBoxModel",
     "state": {
      "_dom_classes": [],
      "_model_module": "@jupyter-widgets/controls",
      "_model_module_version": "1.5.0",
      "_model_name": "HBoxModel",
      "_view_count": null,
      "_view_module": "@jupyter-widgets/controls",
      "_view_module_version": "1.5.0",
      "_view_name": "HBoxView",
      "box_style": "",
      "children": [
       "IPY_MODEL_5103c3b8b02246e09d359ee3120e4d20",
       "IPY_MODEL_3dd0ff06245e4e11bef532e53b98f8cc"
      ],
      "layout": "IPY_MODEL_8607f802a6d246e48158dedc3d0c3d08"
     }
    },
    "3b0664c477344b5bb101d6c94d39cf66": {
     "model_module": "@jupyter-widgets/controls",
     "model_name": "IntProgressModel",
     "state": {
      "_dom_classes": [],
      "_model_module": "@jupyter-widgets/controls",
      "_model_module_version": "1.5.0",
      "_model_name": "IntProgressModel",
      "_view_count": null,
      "_view_module": "@jupyter-widgets/controls",
      "_view_module_version": "1.5.0",
      "_view_name": "ProgressView",
      "bar_style": "success",
      "description": "",
      "description_tooltip": null,
      "layout": "IPY_MODEL_f8483df122024272bc6cd3a8bbd5838e",
      "max": 1,
      "min": 0,
      "orientation": "horizontal",
      "style": "IPY_MODEL_22e7cdd81fcb45d7a1d3522efbb64cdc",
      "value": 1
     }
    },
    "3dd0ff06245e4e11bef532e53b98f8cc": {
     "model_module": "@jupyter-widgets/controls",
     "model_name": "HTMLModel",
     "state": {
      "_dom_classes": [],
      "_model_module": "@jupyter-widgets/controls",
      "_model_module_version": "1.5.0",
      "_model_name": "HTMLModel",
      "_view_count": null,
      "_view_module": "@jupyter-widgets/controls",
      "_view_module_version": "1.5.0",
      "_view_name": "HTMLView",
      "description": "",
      "description_tooltip": null,
      "layout": "IPY_MODEL_7fbab5a5079d438e92e5dbe748fe822d",
      "placeholder": "​",
      "style": "IPY_MODEL_09a38233082248e297a9fefef4d953f8",
      "value": "32768it [00:00, 95966.60it/s]"
     }
    },
    "3f8a4f33ff924393820704deacf7689f": {
     "model_module": "@jupyter-widgets/base",
     "model_name": "LayoutModel",
     "state": {
      "_model_module": "@jupyter-widgets/base",
      "_model_module_version": "1.2.0",
      "_model_name": "LayoutModel",
      "_view_count": null,
      "_view_module": "@jupyter-widgets/base",
      "_view_module_version": "1.2.0",
      "_view_name": "LayoutView",
      "align_content": null,
      "align_items": null,
      "align_self": null,
      "border": null,
      "bottom": null,
      "display": null,
      "flex": null,
      "flex_flow": null,
      "grid_area": null,
      "grid_auto_columns": null,
      "grid_auto_flow": null,
      "grid_auto_rows": null,
      "grid_column": null,
      "grid_gap": null,
      "grid_row": null,
      "grid_template_areas": null,
      "grid_template_columns": null,
      "grid_template_rows": null,
      "height": null,
      "justify_content": null,
      "justify_items": null,
      "left": null,
      "margin": null,
      "max_height": null,
      "max_width": null,
      "min_height": null,
      "min_width": null,
      "object_fit": null,
      "object_position": null,
      "order": null,
      "overflow": null,
      "overflow_x": null,
      "overflow_y": null,
      "padding": null,
      "right": null,
      "top": null,
      "visibility": null,
      "width": null
     }
    },
    "4c647347006c4813b1eb0dffa208c7e4": {
     "model_module": "@jupyter-widgets/base",
     "model_name": "LayoutModel",
     "state": {
      "_model_module": "@jupyter-widgets/base",
      "_model_module_version": "1.2.0",
      "_model_name": "LayoutModel",
      "_view_count": null,
      "_view_module": "@jupyter-widgets/base",
      "_view_module_version": "1.2.0",
      "_view_name": "LayoutView",
      "align_content": null,
      "align_items": null,
      "align_self": null,
      "border": null,
      "bottom": null,
      "display": null,
      "flex": null,
      "flex_flow": null,
      "grid_area": null,
      "grid_auto_columns": null,
      "grid_auto_flow": null,
      "grid_auto_rows": null,
      "grid_column": null,
      "grid_gap": null,
      "grid_row": null,
      "grid_template_areas": null,
      "grid_template_columns": null,
      "grid_template_rows": null,
      "height": null,
      "justify_content": null,
      "justify_items": null,
      "left": null,
      "margin": null,
      "max_height": null,
      "max_width": null,
      "min_height": null,
      "min_width": null,
      "object_fit": null,
      "object_position": null,
      "order": null,
      "overflow": null,
      "overflow_x": null,
      "overflow_y": null,
      "padding": null,
      "right": null,
      "top": null,
      "visibility": null,
      "width": null
     }
    },
    "4cafe15551a148f89d996247226bed2d": {
     "model_module": "@jupyter-widgets/controls",
     "model_name": "DescriptionStyleModel",
     "state": {
      "_model_module": "@jupyter-widgets/controls",
      "_model_module_version": "1.5.0",
      "_model_name": "DescriptionStyleModel",
      "_view_count": null,
      "_view_module": "@jupyter-widgets/base",
      "_view_module_version": "1.2.0",
      "_view_name": "StyleView",
      "description_width": ""
     }
    },
    "5103c3b8b02246e09d359ee3120e4d20": {
     "model_module": "@jupyter-widgets/controls",
     "model_name": "IntProgressModel",
     "state": {
      "_dom_classes": [],
      "_model_module": "@jupyter-widgets/controls",
      "_model_module_version": "1.5.0",
      "_model_name": "IntProgressModel",
      "_view_count": null,
      "_view_module": "@jupyter-widgets/controls",
      "_view_module_version": "1.5.0",
      "_view_name": "ProgressView",
      "bar_style": "success",
      "description": "",
      "description_tooltip": null,
      "layout": "IPY_MODEL_652e1fbaa82c471c9134521ba31a1b30",
      "max": 1,
      "min": 0,
      "orientation": "horizontal",
      "style": "IPY_MODEL_00c57892564e49ca824aa0bced5e4378",
      "value": 1
     }
    },
    "56736779c63f42969accc03e27af3ded": {
     "model_module": "@jupyter-widgets/controls",
     "model_name": "DescriptionStyleModel",
     "state": {
      "_model_module": "@jupyter-widgets/controls",
      "_model_module_version": "1.5.0",
      "_model_name": "DescriptionStyleModel",
      "_view_count": null,
      "_view_module": "@jupyter-widgets/base",
      "_view_module_version": "1.2.0",
      "_view_name": "StyleView",
      "description_width": ""
     }
    },
    "652e1fbaa82c471c9134521ba31a1b30": {
     "model_module": "@jupyter-widgets/base",
     "model_name": "LayoutModel",
     "state": {
      "_model_module": "@jupyter-widgets/base",
      "_model_module_version": "1.2.0",
      "_model_name": "LayoutModel",
      "_view_count": null,
      "_view_module": "@jupyter-widgets/base",
      "_view_module_version": "1.2.0",
      "_view_name": "LayoutView",
      "align_content": null,
      "align_items": null,
      "align_self": null,
      "border": null,
      "bottom": null,
      "display": null,
      "flex": null,
      "flex_flow": null,
      "grid_area": null,
      "grid_auto_columns": null,
      "grid_auto_flow": null,
      "grid_auto_rows": null,
      "grid_column": null,
      "grid_gap": null,
      "grid_row": null,
      "grid_template_areas": null,
      "grid_template_columns": null,
      "grid_template_rows": null,
      "height": null,
      "justify_content": null,
      "justify_items": null,
      "left": null,
      "margin": null,
      "max_height": null,
      "max_width": null,
      "min_height": null,
      "min_width": null,
      "object_fit": null,
      "object_position": null,
      "order": null,
      "overflow": null,
      "overflow_x": null,
      "overflow_y": null,
      "padding": null,
      "right": null,
      "top": null,
      "visibility": null,
      "width": null
     }
    },
    "73c41ea24c4f46739f61312ae5981cd7": {
     "model_module": "@jupyter-widgets/controls",
     "model_name": "HBoxModel",
     "state": {
      "_dom_classes": [],
      "_model_module": "@jupyter-widgets/controls",
      "_model_module_version": "1.5.0",
      "_model_name": "HBoxModel",
      "_view_count": null,
      "_view_module": "@jupyter-widgets/controls",
      "_view_module_version": "1.5.0",
      "_view_name": "HBoxView",
      "box_style": "",
      "children": [
       "IPY_MODEL_cf73e3d5ead7422d86eed3ad82ebf5be",
       "IPY_MODEL_37053cffd5bb4c2b94c8cd72ab4b4b84"
      ],
      "layout": "IPY_MODEL_9101ffc8ea124f99b7829fc490874e02"
     }
    },
    "7fbab5a5079d438e92e5dbe748fe822d": {
     "model_module": "@jupyter-widgets/base",
     "model_name": "LayoutModel",
     "state": {
      "_model_module": "@jupyter-widgets/base",
      "_model_module_version": "1.2.0",
      "_model_name": "LayoutModel",
      "_view_count": null,
      "_view_module": "@jupyter-widgets/base",
      "_view_module_version": "1.2.0",
      "_view_name": "LayoutView",
      "align_content": null,
      "align_items": null,
      "align_self": null,
      "border": null,
      "bottom": null,
      "display": null,
      "flex": null,
      "flex_flow": null,
      "grid_area": null,
      "grid_auto_columns": null,
      "grid_auto_flow": null,
      "grid_auto_rows": null,
      "grid_column": null,
      "grid_gap": null,
      "grid_row": null,
      "grid_template_areas": null,
      "grid_template_columns": null,
      "grid_template_rows": null,
      "height": null,
      "justify_content": null,
      "justify_items": null,
      "left": null,
      "margin": null,
      "max_height": null,
      "max_width": null,
      "min_height": null,
      "min_width": null,
      "object_fit": null,
      "object_position": null,
      "order": null,
      "overflow": null,
      "overflow_x": null,
      "overflow_y": null,
      "padding": null,
      "right": null,
      "top": null,
      "visibility": null,
      "width": null
     }
    },
    "842e0b7300e14943bd3099d6e9962452": {
     "model_module": "@jupyter-widgets/base",
     "model_name": "LayoutModel",
     "state": {
      "_model_module": "@jupyter-widgets/base",
      "_model_module_version": "1.2.0",
      "_model_name": "LayoutModel",
      "_view_count": null,
      "_view_module": "@jupyter-widgets/base",
      "_view_module_version": "1.2.0",
      "_view_name": "LayoutView",
      "align_content": null,
      "align_items": null,
      "align_self": null,
      "border": null,
      "bottom": null,
      "display": null,
      "flex": null,
      "flex_flow": null,
      "grid_area": null,
      "grid_auto_columns": null,
      "grid_auto_flow": null,
      "grid_auto_rows": null,
      "grid_column": null,
      "grid_gap": null,
      "grid_row": null,
      "grid_template_areas": null,
      "grid_template_columns": null,
      "grid_template_rows": null,
      "height": null,
      "justify_content": null,
      "justify_items": null,
      "left": null,
      "margin": null,
      "max_height": null,
      "max_width": null,
      "min_height": null,
      "min_width": null,
      "object_fit": null,
      "object_position": null,
      "order": null,
      "overflow": null,
      "overflow_x": null,
      "overflow_y": null,
      "padding": null,
      "right": null,
      "top": null,
      "visibility": null,
      "width": null
     }
    },
    "8607f802a6d246e48158dedc3d0c3d08": {
     "model_module": "@jupyter-widgets/base",
     "model_name": "LayoutModel",
     "state": {
      "_model_module": "@jupyter-widgets/base",
      "_model_module_version": "1.2.0",
      "_model_name": "LayoutModel",
      "_view_count": null,
      "_view_module": "@jupyter-widgets/base",
      "_view_module_version": "1.2.0",
      "_view_name": "LayoutView",
      "align_content": null,
      "align_items": null,
      "align_self": null,
      "border": null,
      "bottom": null,
      "display": null,
      "flex": null,
      "flex_flow": null,
      "grid_area": null,
      "grid_auto_columns": null,
      "grid_auto_flow": null,
      "grid_auto_rows": null,
      "grid_column": null,
      "grid_gap": null,
      "grid_row": null,
      "grid_template_areas": null,
      "grid_template_columns": null,
      "grid_template_rows": null,
      "height": null,
      "justify_content": null,
      "justify_items": null,
      "left": null,
      "margin": null,
      "max_height": null,
      "max_width": null,
      "min_height": null,
      "min_width": null,
      "object_fit": null,
      "object_position": null,
      "order": null,
      "overflow": null,
      "overflow_x": null,
      "overflow_y": null,
      "padding": null,
      "right": null,
      "top": null,
      "visibility": null,
      "width": null
     }
    },
    "9101ffc8ea124f99b7829fc490874e02": {
     "model_module": "@jupyter-widgets/base",
     "model_name": "LayoutModel",
     "state": {
      "_model_module": "@jupyter-widgets/base",
      "_model_module_version": "1.2.0",
      "_model_name": "LayoutModel",
      "_view_count": null,
      "_view_module": "@jupyter-widgets/base",
      "_view_module_version": "1.2.0",
      "_view_name": "LayoutView",
      "align_content": null,
      "align_items": null,
      "align_self": null,
      "border": null,
      "bottom": null,
      "display": null,
      "flex": null,
      "flex_flow": null,
      "grid_area": null,
      "grid_auto_columns": null,
      "grid_auto_flow": null,
      "grid_auto_rows": null,
      "grid_column": null,
      "grid_gap": null,
      "grid_row": null,
      "grid_template_areas": null,
      "grid_template_columns": null,
      "grid_template_rows": null,
      "height": null,
      "justify_content": null,
      "justify_items": null,
      "left": null,
      "margin": null,
      "max_height": null,
      "max_width": null,
      "min_height": null,
      "min_width": null,
      "object_fit": null,
      "object_position": null,
      "order": null,
      "overflow": null,
      "overflow_x": null,
      "overflow_y": null,
      "padding": null,
      "right": null,
      "top": null,
      "visibility": null,
      "width": null
     }
    },
    "b3c0627c1de049c5b4930a2264756ec3": {
     "model_module": "@jupyter-widgets/controls",
     "model_name": "ProgressStyleModel",
     "state": {
      "_model_module": "@jupyter-widgets/controls",
      "_model_module_version": "1.5.0",
      "_model_name": "ProgressStyleModel",
      "_view_count": null,
      "_view_module": "@jupyter-widgets/base",
      "_view_module_version": "1.2.0",
      "_view_name": "StyleView",
      "bar_color": null,
      "description_width": ""
     }
    },
    "bf0c385c22c14ae8927c32c80d15e9a9": {
     "model_module": "@jupyter-widgets/base",
     "model_name": "LayoutModel",
     "state": {
      "_model_module": "@jupyter-widgets/base",
      "_model_module_version": "1.2.0",
      "_model_name": "LayoutModel",
      "_view_count": null,
      "_view_module": "@jupyter-widgets/base",
      "_view_module_version": "1.2.0",
      "_view_name": "LayoutView",
      "align_content": null,
      "align_items": null,
      "align_self": null,
      "border": null,
      "bottom": null,
      "display": null,
      "flex": null,
      "flex_flow": null,
      "grid_area": null,
      "grid_auto_columns": null,
      "grid_auto_flow": null,
      "grid_auto_rows": null,
      "grid_column": null,
      "grid_gap": null,
      "grid_row": null,
      "grid_template_areas": null,
      "grid_template_columns": null,
      "grid_template_rows": null,
      "height": null,
      "justify_content": null,
      "justify_items": null,
      "left": null,
      "margin": null,
      "max_height": null,
      "max_width": null,
      "min_height": null,
      "min_width": null,
      "object_fit": null,
      "object_position": null,
      "order": null,
      "overflow": null,
      "overflow_x": null,
      "overflow_y": null,
      "padding": null,
      "right": null,
      "top": null,
      "visibility": null,
      "width": null
     }
    },
    "bf6b5ce84ee447b1ad70c6f908cc13ec": {
     "model_module": "@jupyter-widgets/controls",
     "model_name": "ProgressStyleModel",
     "state": {
      "_model_module": "@jupyter-widgets/controls",
      "_model_module_version": "1.5.0",
      "_model_name": "ProgressStyleModel",
      "_view_count": null,
      "_view_module": "@jupyter-widgets/base",
      "_view_module_version": "1.2.0",
      "_view_name": "StyleView",
      "bar_color": null,
      "description_width": ""
     }
    },
    "c960b2a3e09146bd89489dfc3929e0fb": {
     "model_module": "@jupyter-widgets/base",
     "model_name": "LayoutModel",
     "state": {
      "_model_module": "@jupyter-widgets/base",
      "_model_module_version": "1.2.0",
      "_model_name": "LayoutModel",
      "_view_count": null,
      "_view_module": "@jupyter-widgets/base",
      "_view_module_version": "1.2.0",
      "_view_name": "LayoutView",
      "align_content": null,
      "align_items": null,
      "align_self": null,
      "border": null,
      "bottom": null,
      "display": null,
      "flex": null,
      "flex_flow": null,
      "grid_area": null,
      "grid_auto_columns": null,
      "grid_auto_flow": null,
      "grid_auto_rows": null,
      "grid_column": null,
      "grid_gap": null,
      "grid_row": null,
      "grid_template_areas": null,
      "grid_template_columns": null,
      "grid_template_rows": null,
      "height": null,
      "justify_content": null,
      "justify_items": null,
      "left": null,
      "margin": null,
      "max_height": null,
      "max_width": null,
      "min_height": null,
      "min_width": null,
      "object_fit": null,
      "object_position": null,
      "order": null,
      "overflow": null,
      "overflow_x": null,
      "overflow_y": null,
      "padding": null,
      "right": null,
      "top": null,
      "visibility": null,
      "width": null
     }
    },
    "cb5f37b0dcfb4248b03e7864a10d1d9f": {
     "model_module": "@jupyter-widgets/base",
     "model_name": "LayoutModel",
     "state": {
      "_model_module": "@jupyter-widgets/base",
      "_model_module_version": "1.2.0",
      "_model_name": "LayoutModel",
      "_view_count": null,
      "_view_module": "@jupyter-widgets/base",
      "_view_module_version": "1.2.0",
      "_view_name": "LayoutView",
      "align_content": null,
      "align_items": null,
      "align_self": null,
      "border": null,
      "bottom": null,
      "display": null,
      "flex": null,
      "flex_flow": null,
      "grid_area": null,
      "grid_auto_columns": null,
      "grid_auto_flow": null,
      "grid_auto_rows": null,
      "grid_column": null,
      "grid_gap": null,
      "grid_row": null,
      "grid_template_areas": null,
      "grid_template_columns": null,
      "grid_template_rows": null,
      "height": null,
      "justify_content": null,
      "justify_items": null,
      "left": null,
      "margin": null,
      "max_height": null,
      "max_width": null,
      "min_height": null,
      "min_width": null,
      "object_fit": null,
      "object_position": null,
      "order": null,
      "overflow": null,
      "overflow_x": null,
      "overflow_y": null,
      "padding": null,
      "right": null,
      "top": null,
      "visibility": null,
      "width": null
     }
    },
    "cf73e3d5ead7422d86eed3ad82ebf5be": {
     "model_module": "@jupyter-widgets/controls",
     "model_name": "IntProgressModel",
     "state": {
      "_dom_classes": [],
      "_model_module": "@jupyter-widgets/controls",
      "_model_module_version": "1.5.0",
      "_model_name": "IntProgressModel",
      "_view_count": null,
      "_view_module": "@jupyter-widgets/controls",
      "_view_module_version": "1.5.0",
      "_view_name": "ProgressView",
      "bar_style": "info",
      "description": "",
      "description_tooltip": null,
      "layout": "IPY_MODEL_bf0c385c22c14ae8927c32c80d15e9a9",
      "max": 1,
      "min": 0,
      "orientation": "horizontal",
      "style": "IPY_MODEL_b3c0627c1de049c5b4930a2264756ec3",
      "value": 1
     }
    },
    "d5252c71f8d348cfa31a47fb3e318309": {
     "model_module": "@jupyter-widgets/controls",
     "model_name": "IntProgressModel",
     "state": {
      "_dom_classes": [],
      "_model_module": "@jupyter-widgets/controls",
      "_model_module_version": "1.5.0",
      "_model_name": "IntProgressModel",
      "_view_count": null,
      "_view_module": "@jupyter-widgets/controls",
      "_view_module_version": "1.5.0",
      "_view_name": "ProgressView",
      "bar_style": "info",
      "description": "",
      "description_tooltip": null,
      "layout": "IPY_MODEL_045e4e384fba49ce8bc5797d9b7c621a",
      "max": 1,
      "min": 0,
      "orientation": "horizontal",
      "style": "IPY_MODEL_bf6b5ce84ee447b1ad70c6f908cc13ec",
      "value": 1
     }
    },
    "f8483df122024272bc6cd3a8bbd5838e": {
     "model_module": "@jupyter-widgets/base",
     "model_name": "LayoutModel",
     "state": {
      "_model_module": "@jupyter-widgets/base",
      "_model_module_version": "1.2.0",
      "_model_name": "LayoutModel",
      "_view_count": null,
      "_view_module": "@jupyter-widgets/base",
      "_view_module_version": "1.2.0",
      "_view_name": "LayoutView",
      "align_content": null,
      "align_items": null,
      "align_self": null,
      "border": null,
      "bottom": null,
      "display": null,
      "flex": null,
      "flex_flow": null,
      "grid_area": null,
      "grid_auto_columns": null,
      "grid_auto_flow": null,
      "grid_auto_rows": null,
      "grid_column": null,
      "grid_gap": null,
      "grid_row": null,
      "grid_template_areas": null,
      "grid_template_columns": null,
      "grid_template_rows": null,
      "height": null,
      "justify_content": null,
      "justify_items": null,
      "left": null,
      "margin": null,
      "max_height": null,
      "max_width": null,
      "min_height": null,
      "min_width": null,
      "object_fit": null,
      "object_position": null,
      "order": null,
      "overflow": null,
      "overflow_x": null,
      "overflow_y": null,
      "padding": null,
      "right": null,
      "top": null,
      "visibility": null,
      "width": null
     }
    },
    "ff9bb5ed732a46e2a15034599555959d": {
     "model_module": "@jupyter-widgets/controls",
     "model_name": "HTMLModel",
     "state": {
      "_dom_classes": [],
      "_model_module": "@jupyter-widgets/controls",
      "_model_module_version": "1.5.0",
      "_model_name": "HTMLModel",
      "_view_count": null,
      "_view_module": "@jupyter-widgets/controls",
      "_view_module_version": "1.5.0",
      "_view_name": "HTMLView",
      "description": "",
      "description_tooltip": null,
      "layout": "IPY_MODEL_842e0b7300e14943bd3099d6e9962452",
      "placeholder": "​",
      "style": "IPY_MODEL_56736779c63f42969accc03e27af3ded",
      "value": "8192it [00:00, 34690.13it/s]"
     }
    }
   }
  }
 },
 "nbformat": 4,
 "nbformat_minor": 1
}
